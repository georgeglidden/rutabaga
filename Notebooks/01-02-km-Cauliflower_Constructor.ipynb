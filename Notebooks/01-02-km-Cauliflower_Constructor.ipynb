{
 "cells": [
  {
   "cell_type": "markdown",
   "metadata": {},
   "source": [
    "# Cauliflower Constructor"
   ]
  },
  {
   "cell_type": "code",
   "execution_count": 39,
   "metadata": {},
   "outputs": [],
   "source": [
    "import numpy as np"
   ]
  },
  {
   "cell_type": "code",
   "execution_count": 69,
   "metadata": {},
   "outputs": [],
   "source": [
    "# The constructor operates by taking all of the points in the unit circle and applying to them the operations f and g\n",
    "unit = 1\n",
    "def f(points,b):\n",
    "    addition = np.array([unit-b,0])\n",
    "    points_new = []\n",
    "    for p in points:\n",
    "        points_new.append(b*p + addition)\n",
    "    return np.array(points_new)\n",
    "def g(points,a,phi):\n",
    "    transformation_matrix = a*np.array([[np.cos(phi),np.sin(phi)],[-np.sin(phi),np.cos(phi)]])\n",
    "    points_new = []\n",
    "    for p in points:\n",
    "        points_new.append(transformation_matrix@p)\n",
    "    return np.array(points_new)"
   ]
  },
  {
   "cell_type": "code",
   "execution_count": 31,
   "metadata": {},
   "outputs": [],
   "source": [
    "# generate all of the points within the unit circle by rotating around\n",
    "line = np.concatenate([np.arange(0.01,1,0.01)[:,None],np.zeros(99)[:,None]],axis=1)\n",
    "circle = []\n",
    "phi = 0.001\n",
    "rotate = np.array([[np.cos(phi),np.sin(phi)],[-np.sin(phi),np.cos(phi)]])"
   ]
  },
  {
   "cell_type": "code",
   "execution_count": 33,
   "metadata": {},
   "outputs": [],
   "source": [
    "for l in line:\n",
    "    circle.append(l)\n",
    "    for i in trange(int(2000*3.1415)):\n",
    "        circle.append(rotate@circle[-1])\n",
    "circle = np.array(circle)"
   ]
  },
  {
   "cell_type": "code",
   "execution_count": 34,
   "metadata": {},
   "outputs": [
    {
     "data": {
      "text/plain": [
       "<matplotlib.collections.PathCollection at 0x7f943bbd5550>"
      ]
     },
     "execution_count": 34,
     "metadata": {},
     "output_type": "execute_result"
    },
    {
     "data": {
      "image/png": "[encoded data removed]",
      "text/plain": [
       "<Figure size 432x288 with 1 Axes>"
      ]
     },
     "metadata": {
      "needs_background": "light"
     },
     "output_type": "display_data"
    }
   ],
   "source": [
    "import matplotlib.pyplot as plt\n",
    "plt.scatter(circle[:,0],circle[:,1])"
   ]
  },
  {
   "cell_type": "code",
   "execution_count": 81,
   "metadata": {},
   "outputs": [
    {
     "name": "stderr",
     "output_type": "stream",
     "text": [
      "  0%|          | 0/19 [00:00<?, ?it/s]\n",
      "  0%|          | 0/19 [00:00<?, ?it/s]\u001b[A\n",
      "  5%|▌         | 1/19 [01:08<20:26, 68.13s/it]\u001b[A\n",
      " 11%|█         | 2/19 [02:03<17:11, 60.67s/it]\u001b[A\n",
      " 16%|█▌        | 3/19 [03:08<16:43, 62.69s/it]\u001b[A\n",
      " 21%|██        | 4/19 [03:52<13:50, 55.34s/it]\u001b[A\n",
      " 26%|██▋       | 5/19 [04:56<13:35, 58.25s/it]\u001b[A\n",
      " 32%|███▏      | 6/19 [05:58<12:54, 59.56s/it]\u001b[A\n",
      " 37%|███▋      | 7/19 [06:45<11:06, 55.52s/it]\u001b[A\n",
      " 42%|████▏     | 8/19 [07:50<10:43, 58.49s/it]\u001b[A\n",
      " 47%|████▋     | 9/19 [08:52<09:57, 59.71s/it]\u001b[A\n",
      " 53%|█████▎    | 10/19 [09:40<08:25, 56.15s/it]\u001b[A\n",
      " 58%|█████▊    | 11/19 [10:48<07:57, 59.64s/it]\u001b[A\n",
      " 63%|██████▎   | 12/19 [11:43<06:48, 58.39s/it]\u001b[A\n",
      " 68%|██████▊   | 13/19 [12:35<05:38, 56.37s/it]\u001b[A\n",
      " 74%|███████▎  | 14/19 [13:44<05:01, 60.21s/it]\u001b[A\n",
      " 79%|███████▉  | 15/19 [14:28<03:40, 55.10s/it]\u001b[A\n",
      " 84%|████████▍ | 16/19 [15:29<02:50, 56.99s/it]\u001b[A\n",
      " 89%|████████▉ | 17/19 [16:35<01:59, 59.71s/it]\u001b[A\n",
      " 95%|█████████▍| 18/19 [17:16<00:54, 54.12s/it]\u001b[A\n",
      "100%|██████████| 19/19 [18:18<00:00, 57.82s/it]\u001b[A\n",
      "  5%|▌         | 1/19 [18:18<5:29:33, 1098.52s/it]\n",
      "  0%|          | 0/19 [00:00<?, ?it/s]\u001b[A\n",
      "  5%|▌         | 1/19 [00:41<12:18, 41.05s/it]\u001b[A\n",
      " 11%|█         | 2/19 [01:44<15:18, 54.02s/it]\u001b[A\n",
      " 16%|█▌        | 3/19 [02:44<15:08, 56.81s/it]\u001b[A\n",
      " 21%|██        | 4/19 [03:27<12:49, 51.28s/it]\u001b[A\n",
      " 26%|██▋       | 5/19 [04:30<12:59, 55.66s/it]\u001b[A\n",
      " 32%|███▏      | 6/19 [05:21<11:43, 54.15s/it]\u001b[A\n",
      " 37%|███▋      | 7/19 [06:13<10:41, 53.49s/it]\u001b[A\n",
      " 42%|████▏     | 8/19 [07:18<10:26, 57.00s/it]\u001b[A\n",
      " 47%|████▋     | 9/19 [08:07<09:05, 54.58s/it]\u001b[A\n",
      " 53%|█████▎    | 10/19 [09:02<08:10, 54.55s/it]\u001b[A\n",
      " 58%|█████▊    | 11/19 [10:02<07:31, 56.43s/it]\u001b[A\n",
      " 63%|██████▎   | 12/19 [10:45<06:05, 52.19s/it]\u001b[A\n",
      " 68%|██████▊   | 13/19 [11:53<05:42, 57.06s/it]\u001b[A\n",
      " 74%|███████▎  | 14/19 [12:45<04:37, 55.45s/it]\u001b[A\n",
      " 79%|███████▉  | 15/19 [13:42<03:43, 55.92s/it]\u001b[A\n",
      " 84%|████████▍ | 16/19 [14:43<02:52, 57.43s/it]\u001b[A\n",
      " 89%|████████▉ | 17/19 [15:22<01:44, 52.06s/it]\u001b[A\n",
      " 95%|█████████▍| 18/19 [16:25<00:55, 55.25s/it]\u001b[A\n",
      "100%|██████████| 19/19 [17:30<00:00, 55.31s/it]\u001b[A\n",
      " 11%|█         | 2/19 [35:49<5:03:18, 1070.49s/it]\n",
      "  0%|          | 0/19 [00:00<?, ?it/s]\u001b[A\n",
      "  5%|▌         | 1/19 [00:44<13:16, 44.23s/it]\u001b[A\n",
      " 11%|█         | 2/19 [01:49<16:01, 56.57s/it]\u001b[A\n",
      " 16%|█▌        | 3/19 [02:33<13:30, 50.65s/it]\u001b[A\n",
      " 21%|██        | 4/19 [03:33<13:39, 54.65s/it]\u001b[A\n",
      " 26%|██▋       | 5/19 [04:36<13:25, 57.52s/it]\u001b[A\n",
      " 32%|███▏      | 6/19 [05:18<11:20, 52.35s/it]\u001b[A\n",
      " 37%|███▋      | 7/19 [06:24<11:20, 56.68s/it]\u001b[A\n",
      " 42%|████▏     | 8/19 [07:24<10:34, 57.72s/it]\u001b[A\n",
      " 47%|████▋     | 9/19 [08:06<08:50, 53.03s/it]\u001b[A\n",
      " 53%|█████▎    | 10/19 [09:21<08:56, 59.58s/it]\u001b[A\n",
      " 58%|█████▊    | 11/19 [10:04<07:17, 54.64s/it]\u001b[A\n",
      " 63%|██████▎   | 12/19 [11:05<06:35, 56.45s/it]\u001b[A\n",
      " 68%|██████▊   | 13/19 [12:11<05:55, 59.29s/it]\u001b[A\n",
      " 74%|███████▎  | 14/19 [12:54<04:31, 54.34s/it]\u001b[A\n",
      " 79%|███████▉  | 15/19 [13:55<03:45, 56.40s/it]\u001b[A\n",
      " 84%|████████▍ | 16/19 [14:56<02:53, 57.94s/it]\u001b[A\n",
      " 89%|████████▉ | 17/19 [15:39<01:46, 53.46s/it]\u001b[A\n",
      " 95%|█████████▍| 18/19 [16:41<00:56, 56.04s/it]\u001b[A\n",
      "100%|██████████| 19/19 [17:35<00:00, 55.57s/it]\u001b[A\n",
      " 16%|█▌        | 3/19 [53:25<4:43:40, 1063.77s/it]\n",
      "  0%|          | 0/19 [00:00<?, ?it/s]\u001b[A\n",
      "  5%|▌         | 1/19 [00:49<14:59, 49.99s/it]\u001b[A\n",
      " 11%|█         | 2/19 [01:59<17:24, 61.45s/it]\u001b[A\n",
      " 16%|█▌        | 3/19 [02:41<14:04, 52.79s/it]\u001b[A\n",
      " 21%|██        | 4/19 [03:43<14:03, 56.26s/it]\u001b[A\n",
      " 26%|██▋       | 5/19 [04:46<13:41, 58.67s/it]\u001b[A\n",
      " 32%|███▏      | 6/19 [05:29<11:34, 53.40s/it]\u001b[A\n",
      " 37%|███▋      | 7/19 [06:31<11:13, 56.09s/it]\u001b[A\n",
      " 42%|████▏     | 8/19 [07:42<11:08, 60.79s/it]\u001b[A\n",
      " 47%|████▋     | 9/19 [08:23<09:08, 54.84s/it]\u001b[A\n",
      " 53%|█████▎    | 10/19 [09:26<08:34, 57.22s/it]\u001b[A\n",
      " 58%|█████▊    | 11/19 [10:16<07:20, 55.05s/it]\u001b[A\n",
      " 63%|██████▎   | 12/19 [11:06<06:15, 53.58s/it]\u001b[A\n",
      " 68%|██████▊   | 13/19 [12:13<05:46, 57.67s/it]\u001b[A\n",
      " 74%|███████▎  | 14/19 [12:55<04:24, 52.87s/it]\u001b[A\n",
      " 79%|███████▉  | 15/19 [13:55<03:39, 54.91s/it]\u001b[A\n",
      " 84%|████████▍ | 16/19 [14:55<02:49, 56.60s/it]\u001b[A\n",
      " 89%|████████▉ | 17/19 [15:36<01:43, 51.89s/it]\u001b[A\n",
      " 95%|█████████▍| 18/19 [16:42<00:55, 55.93s/it]\u001b[A\n",
      "100%|██████████| 19/19 [17:24<00:00, 54.98s/it]\u001b[A\n",
      " 21%|██        | 4/19 [1:10:49<4:24:03, 1056.21s/it]\n",
      "  0%|          | 0/19 [00:00<?, ?it/s]\u001b[A\n",
      "  5%|▌         | 1/19 [01:04<19:24, 64.70s/it]\u001b[A\n",
      " 11%|█         | 2/19 [02:03<17:20, 61.18s/it]\u001b[A\n",
      " 16%|█▌        | 3/19 [02:45<14:02, 52.68s/it]\u001b[A\n",
      " 21%|██        | 4/19 [03:49<14:16, 57.12s/it]\u001b[A\n",
      " 26%|██▋       | 5/19 [04:30<11:55, 51.10s/it]\u001b[A\n",
      " 32%|███▏      | 6/19 [05:34<12:03, 55.67s/it]\u001b[A\n",
      " 37%|███▋      | 7/19 [06:27<10:55, 54.62s/it]\u001b[A\n",
      " 42%|████▏     | 8/19 [07:17<09:46, 53.29s/it]\u001b[A\n",
      " 47%|████▋     | 9/19 [08:21<09:26, 56.68s/it]\u001b[A\n",
      " 53%|█████▎    | 10/19 [09:03<07:48, 52.07s/it]\u001b[A\n",
      " 58%|█████▊    | 11/19 [10:07<07:26, 55.76s/it]\u001b[A\n",
      " 63%|██████▎   | 12/19 [10:58<06:19, 54.17s/it]\u001b[A\n",
      " 68%|██████▊   | 13/19 [11:54<05:27, 54.63s/it]\u001b[A\n",
      " 74%|███████▎  | 14/19 [12:53<04:40, 56.06s/it]\u001b[A\n",
      " 79%|███████▉  | 15/19 [13:34<03:26, 51.51s/it]\u001b[A\n",
      " 84%|████████▍ | 16/19 [14:35<02:43, 54.39s/it]\u001b[A\n",
      " 89%|████████▉ | 17/19 [15:16<01:40, 50.38s/it]\u001b[A\n",
      " 95%|█████████▍| 18/19 [16:22<00:55, 55.13s/it]\u001b[A\n",
      "100%|██████████| 19/19 [17:20<00:00, 54.78s/it]\u001b[A\n",
      " 26%|██▋       | 5/19 [1:28:10<4:05:09, 1050.69s/it]\n",
      "  0%|          | 0/19 [00:00<?, ?it/s]\u001b[A\n",
      "  5%|▌         | 1/19 [00:43<13:08, 43.83s/it]\u001b[A\n",
      " 11%|█         | 2/19 [01:45<15:19, 54.11s/it]\u001b[A\n",
      " 16%|█▌        | 3/19 [02:25<12:46, 47.88s/it]\u001b[A\n",
      " 21%|██        | 4/19 [03:32<13:52, 55.49s/it]\u001b[A\n",
      " 26%|██▋       | 5/19 [04:31<13:15, 56.82s/it]\u001b[A\n",
      " 32%|███▏      | 6/19 [05:12<11:05, 51.19s/it]\u001b[A\n",
      " 37%|███▋      | 7/19 [06:17<11:08, 55.67s/it]\u001b[A\n",
      " 42%|████▏     | 8/19 [06:59<09:24, 51.34s/it]\u001b[A\n",
      " 47%|████▋     | 9/19 [08:05<09:21, 56.15s/it]\u001b[A\n",
      " 53%|█████▎    | 10/19 [09:11<08:52, 59.13s/it]\u001b[A\n",
      " 58%|█████▊    | 11/19 [09:55<07:14, 54.31s/it]\u001b[A\n",
      " 63%|██████▎   | 12/19 [10:58<06:39, 57.12s/it]\u001b[A\n",
      " 68%|██████▊   | 13/19 [11:47<05:28, 54.77s/it]\u001b[A\n",
      " 74%|███████▎  | 14/19 [12:40<04:29, 53.95s/it]\u001b[A\n",
      " 79%|███████▉  | 15/19 [13:45<03:49, 57.41s/it]\u001b[A\n",
      " 84%|████████▍ | 16/19 [14:29<02:39, 53.27s/it]\u001b[A\n",
      " 89%|████████▉ | 17/19 [15:32<01:52, 56.30s/it]\u001b[A\n",
      " 95%|█████████▍| 18/19 [16:33<00:57, 57.66s/it]\u001b[A\n",
      "100%|██████████| 19/19 [17:14<00:00, 54.47s/it]\u001b[A\n",
      " 32%|███▏      | 6/19 [1:45:25<3:46:29, 1045.37s/it]\n",
      "  0%|          | 0/19 [00:00<?, ?it/s]\u001b[A\n",
      "  5%|▌         | 1/19 [01:07<20:17, 67.65s/it]\u001b[A\n",
      " 11%|█         | 2/19 [01:57<16:16, 57.42s/it]\u001b[A\n",
      " 16%|█▌        | 3/19 [02:55<15:20, 57.53s/it]\u001b[A\n",
      " 21%|██        | 4/19 [03:56<14:43, 58.87s/it]\u001b[A\n",
      " 26%|██▋       | 5/19 [04:37<12:16, 52.60s/it]\u001b[A\n",
      " 32%|███▏      | 6/19 [05:42<12:15, 56.56s/it]\u001b[A\n",
      " 37%|███▋      | 7/19 [06:49<12:02, 60.21s/it]\u001b[A\n",
      " 42%|████▏     | 8/19 [07:31<09:57, 54.35s/it]\u001b[A\n",
      " 47%|████▋     | 9/19 [08:28<09:11, 55.13s/it]\u001b[A\n",
      " 53%|█████▎    | 10/19 [09:08<07:33, 50.43s/it]\u001b[A\n",
      " 58%|█████▊    | 11/19 [10:25<07:48, 58.60s/it]\u001b[A\n",
      " 63%|██████▎   | 12/19 [11:18<06:38, 56.86s/it]\u001b[A\n",
      " 68%|██████▊   | 13/19 [12:13<05:37, 56.25s/it]\u001b[A\n",
      " 74%|███████▎  | 14/19 [13:14<04:48, 57.79s/it]\u001b[A\n",
      " 79%|███████▉  | 15/19 [13:57<03:32, 53.13s/it]\u001b[A\n",
      " 84%|████████▍ | 16/19 [15:03<02:51, 57.25s/it]\u001b[A\n",
      " 89%|████████▉ | 17/19 [16:03<01:56, 58.03s/it]\u001b[A\n",
      " 95%|█████████▍| 18/19 [16:46<00:53, 53.44s/it]\u001b[A\n",
      "100%|██████████| 19/19 [17:48<00:00, 56.22s/it]\u001b[A\n",
      " 37%|███▋      | 7/19 [2:03:13<3:30:34, 1052.84s/it]\n",
      "  0%|          | 0/19 [00:00<?, ?it/s]\u001b[A\n",
      "  5%|▌         | 1/19 [00:41<12:18, 41.04s/it]\u001b[A\n",
      " 11%|█         | 2/19 [01:40<14:41, 51.84s/it]\u001b[A\n",
      " 16%|█▌        | 3/19 [02:42<15:02, 56.38s/it]\u001b[A\n",
      " 21%|██        | 4/19 [03:25<12:46, 51.12s/it]\u001b[A\n",
      " 26%|██▋       | 5/19 [04:30<13:05, 56.10s/it]\u001b[A\n",
      " 32%|███▏      | 6/19 [05:13<11:10, 51.58s/it]\u001b[A\n",
      " 37%|███▋      | 7/19 [06:12<10:51, 54.27s/it]\u001b[A\n",
      " 42%|████▏     | 8/19 [07:13<10:19, 56.31s/it]\u001b[A\n",
      " 47%|████▋     | 9/19 [07:56<08:40, 52.09s/it]\u001b[A\n",
      " 53%|█████▎    | 10/19 [09:03<08:31, 56.84s/it]\u001b[A\n",
      " 58%|█████▊    | 11/19 [10:06<07:48, 58.59s/it]\u001b[A\n",
      " 63%|██████▎   | 12/19 [10:51<06:20, 54.39s/it]\u001b[A\n",
      " 68%|██████▊   | 13/19 [11:51<05:37, 56.30s/it]\u001b[A\n",
      " 74%|███████▎  | 14/19 [12:32<04:18, 51.64s/it]\u001b[A\n",
      " 79%|███████▉  | 15/19 [13:31<03:35, 53.91s/it]\u001b[A\n",
      " 84%|████████▍ | 16/19 [14:12<02:29, 49.88s/it]\u001b[A\n",
      " 89%|████████▉ | 17/19 [15:18<01:49, 54.72s/it]\u001b[A\n",
      " 95%|█████████▍| 18/19 [15:59<00:50, 50.60s/it]\u001b[A\n",
      "100%|██████████| 19/19 [16:59<00:00, 53.65s/it]\u001b[A\n",
      " 42%|████▏     | 8/19 [2:20:13<3:11:04, 1042.19s/it]\n",
      "  0%|          | 0/19 [00:00<?, ?it/s]\u001b[A\n",
      "  5%|▌         | 1/19 [01:00<18:17, 61.00s/it]\u001b[A\n",
      " 11%|█         | 2/19 [01:43<14:08, 49.90s/it]\u001b[A\n",
      " 16%|█▌        | 3/19 [02:44<14:39, 55.00s/it]\u001b[A\n",
      " 21%|██        | 4/19 [03:47<14:34, 58.30s/it]\u001b[A\n",
      " 26%|██▋       | 5/19 [04:31<12:22, 53.00s/it]\u001b[A\n",
      " 32%|███▏      | 6/19 [05:30<11:55, 55.08s/it]\u001b[A\n",
      " 37%|███▋      | 7/19 [06:31<11:23, 56.94s/it]\u001b[A\n",
      " 42%|████▏     | 8/19 [07:14<09:38, 52.59s/it]\u001b[A\n",
      " 47%|████▋     | 9/19 [08:16<09:16, 55.63s/it]\u001b[A\n",
      " 53%|█████▎    | 10/19 [09:07<08:06, 54.03s/it]\u001b[A\n",
      " 58%|█████▊    | 11/19 [10:00<07:11, 53.90s/it]\u001b[A\n",
      " 63%|██████▎   | 12/19 [10:59<06:27, 55.29s/it]\u001b[A\n",
      " 68%|██████▊   | 13/19 [11:41<05:08, 51.49s/it]\u001b[A\n",
      " 74%|███████▎  | 14/19 [12:46<04:36, 55.31s/it]\u001b[A\n",
      " 79%|███████▉  | 15/19 [13:25<03:22, 50.65s/it]\u001b[A\n",
      " 84%|████████▍ | 16/19 [14:26<02:41, 53.67s/it]\u001b[A\n",
      " 89%|████████▉ | 17/19 [15:28<01:52, 56.10s/it]\u001b[A\n",
      " 95%|█████████▍| 18/19 [16:10<00:51, 51.97s/it]\u001b[A\n",
      "100%|██████████| 19/19 [17:09<00:00, 54.17s/it]\u001b[A\n",
      " 47%|████▋     | 9/19 [2:37:22<2:53:01, 1038.15s/it]\n",
      "  0%|          | 0/19 [00:00<?, ?it/s]\u001b[A\n",
      "  5%|▌         | 1/19 [01:16<22:59, 76.66s/it]\u001b[A\n",
      " 11%|█         | 2/19 [01:59<16:02, 56.61s/it]\u001b[A\n",
      " 16%|█▌        | 3/19 [02:40<13:12, 49.54s/it]\u001b[A\n",
      " 21%|██        | 4/19 [03:22<11:39, 46.60s/it]\u001b[A\n",
      " 26%|██▋       | 5/19 [04:37<13:16, 56.89s/it]\u001b[A\n",
      " 32%|███▏      | 6/19 [05:43<12:59, 59.99s/it]\u001b[A\n",
      " 37%|███▋      | 7/19 [06:24<10:46, 53.84s/it]\u001b[A\n",
      " 42%|████▏     | 8/19 [07:28<10:27, 57.01s/it]\u001b[A\n",
      " 47%|████▋     | 9/19 [08:11<08:45, 52.56s/it]\u001b[A\n",
      " 53%|█████▎    | 10/19 [09:14<08:22, 55.80s/it]\u001b[A\n",
      " 58%|█████▊    | 11/19 [09:57<06:54, 51.77s/it]\u001b[A\n",
      " 63%|██████▎   | 12/19 [10:59<06:24, 54.94s/it]\u001b[A\n",
      " 68%|██████▊   | 13/19 [12:02<05:45, 57.55s/it]\u001b[A\n",
      " 74%|███████▎  | 14/19 [12:44<04:24, 52.90s/it]\u001b[A\n",
      " 79%|███████▉  | 15/19 [13:48<03:45, 56.25s/it]\u001b[A\n",
      " 84%|████████▍ | 16/19 [14:52<02:55, 58.50s/it]\u001b[A\n",
      " 89%|████████▉ | 17/19 [15:37<01:48, 54.28s/it]\u001b[A\n",
      " 95%|█████████▍| 18/19 [16:36<00:55, 55.84s/it]\u001b[A\n",
      "100%|██████████| 19/19 [17:33<00:00, 55.45s/it]\u001b[A\n",
      " 53%|█████▎    | 10/19 [2:54:56<2:36:26, 1042.89s/it]\n",
      "  0%|          | 0/19 [00:00<?, ?it/s]\u001b[A\n",
      "  5%|▌         | 1/19 [00:47<14:07, 47.08s/it]\u001b[A\n",
      " 11%|█         | 2/19 [02:02<18:04, 63.80s/it]\u001b[A\n",
      " 16%|█▌        | 3/19 [02:45<14:26, 54.16s/it]\u001b[A\n",
      " 21%|██        | 4/19 [03:44<14:04, 56.28s/it]\u001b[A\n",
      " 26%|██▋       | 5/19 [04:49<13:49, 59.26s/it]\u001b[A\n",
      " 32%|███▏      | 6/19 [05:32<11:38, 53.71s/it]\u001b[A\n",
      " 37%|███▋      | 7/19 [06:36<11:25, 57.11s/it]\u001b[A\n",
      " 42%|████▏     | 8/19 [07:37<10:43, 58.52s/it]\u001b[A\n",
      " 47%|████▋     | 9/19 [08:21<08:57, 53.75s/it]\u001b[A\n",
      " 53%|█████▎    | 10/19 [09:23<08:28, 56.46s/it]\u001b[A\n",
      " 58%|█████▊    | 11/19 [10:03<06:51, 51.50s/it]\u001b[A\n",
      " 63%|██████▎   | 12/19 [11:09<06:29, 55.64s/it]\u001b[A\n",
      " 68%|██████▊   | 13/19 [12:10<05:44, 57.49s/it]\u001b[A\n",
      " 74%|███████▎  | 14/19 [12:54<04:26, 53.36s/it]\u001b[A\n",
      " 79%|███████▉  | 15/19 [13:54<03:41, 55.30s/it]\u001b[A\n",
      " 84%|████████▍ | 16/19 [14:35<02:32, 50.87s/it]\u001b[A\n",
      " 89%|████████▉ | 17/19 [15:37<01:48, 54.27s/it]\u001b[A\n",
      " 95%|█████████▍| 18/19 [16:39<00:56, 56.66s/it]\u001b[A\n",
      "100%|██████████| 19/19 [17:21<00:00, 54.84s/it]\u001b[A\n",
      " 58%|█████▊    | 11/19 [3:12:18<2:19:00, 1042.60s/it]\n",
      "  0%|          | 0/19 [00:00<?, ?it/s]\u001b[A\n",
      "  5%|▌         | 1/19 [01:05<19:34, 65.25s/it]\u001b[A\n",
      " 11%|█         | 2/19 [02:07<17:56, 63.33s/it]\u001b[A\n",
      " 16%|█▌        | 3/19 [02:49<14:19, 53.70s/it]\u001b[A\n",
      " 21%|██        | 4/19 [03:52<14:18, 57.22s/it]\u001b[A\n",
      " 26%|██▋       | 5/19 [04:59<14:14, 61.04s/it]\u001b[A\n",
      " 32%|███▏      | 6/19 [05:41<11:46, 54.38s/it]\u001b[A\n",
      " 37%|███▋      | 7/19 [06:45<11:31, 57.63s/it]\u001b[A\n",
      " 42%|████▏     | 8/19 [07:29<09:46, 53.27s/it]\u001b[A\n",
      " 47%|████▋     | 9/19 [08:29<09:13, 55.36s/it]\u001b[A\n",
      " 53%|█████▎    | 10/19 [09:39<08:58, 59.81s/it]\u001b[A\n",
      " 58%|█████▊    | 11/19 [10:22<07:17, 54.75s/it]\u001b[A\n",
      " 63%|██████▎   | 12/19 [11:33<06:57, 59.58s/it]\u001b[A\n",
      " 68%|██████▊   | 13/19 [12:13<05:23, 53.85s/it]\u001b[A\n",
      " 74%|███████▎  | 14/19 [13:13<04:37, 55.58s/it]\u001b[A\n",
      " 79%|███████▉  | 15/19 [14:13<03:47, 56.91s/it]\u001b[A\n",
      " 84%|████████▍ | 16/19 [14:55<02:37, 52.45s/it]\u001b[A\n",
      " 89%|████████▉ | 17/19 [15:57<01:50, 55.20s/it]\u001b[A\n",
      " 95%|█████████▍| 18/19 [16:59<00:57, 57.49s/it]\u001b[A\n",
      "100%|██████████| 19/19 [17:40<00:00, 55.79s/it]\u001b[A\n",
      " 63%|██████▎   | 12/19 [3:29:58<2:02:15, 1047.92s/it]\n",
      "  0%|          | 0/19 [00:00<?, ?it/s]\u001b[A\n",
      "  5%|▌         | 1/19 [01:05<19:30, 65.02s/it]\u001b[A\n",
      " 11%|█         | 2/19 [01:46<14:26, 50.98s/it]\u001b[A\n",
      " 16%|█▌        | 3/19 [02:47<14:48, 55.54s/it]\u001b[A\n",
      " 21%|██        | 4/19 [03:46<14:18, 57.23s/it]\u001b[A\n",
      " 26%|██▋       | 5/19 [04:28<12:00, 51.47s/it]\u001b[A\n",
      " 32%|███▏      | 6/19 [05:32<12:06, 55.92s/it]\u001b[A\n",
      " 37%|███▋      | 7/19 [06:34<11:33, 57.76s/it]\u001b[A\n",
      " 42%|████▏     | 8/19 [07:18<09:48, 53.48s/it]\u001b[A\n",
      " 47%|████▋     | 9/19 [08:18<09:13, 55.38s/it]\u001b[A\n",
      " 53%|█████▎    | 10/19 [08:59<07:38, 50.96s/it]\u001b[A\n",
      " 58%|█████▊    | 11/19 [10:02<07:16, 54.60s/it]\u001b[A\n",
      " 63%|██████▎   | 12/19 [10:43<05:54, 50.63s/it]\u001b[A\n",
      " 68%|██████▊   | 13/19 [11:43<05:20, 53.49s/it]\u001b[A\n",
      " 74%|███████▎  | 14/19 [12:45<04:39, 55.90s/it]\u001b[A\n",
      " 79%|███████▉  | 15/19 [13:27<03:27, 51.83s/it]\u001b[A\n",
      " 84%|████████▍ | 16/19 [14:27<02:42, 54.22s/it]\u001b[A\n",
      " 89%|████████▉ | 17/19 [15:05<01:39, 49.53s/it]\u001b[A\n",
      " 95%|█████████▍| 18/19 [16:15<00:55, 55.50s/it]\u001b[A\n",
      "100%|██████████| 19/19 [17:14<00:00, 54.46s/it]\u001b[A\n",
      " 68%|██████▊   | 13/19 [3:47:12<1:44:23, 1043.95s/it]\n",
      "  0%|          | 0/19 [00:00<?, ?it/s]\u001b[A\n",
      "  5%|▌         | 1/19 [00:43<12:55, 43.10s/it]\u001b[A\n",
      " 11%|█         | 2/19 [01:43<15:01, 53.03s/it]\u001b[A\n",
      " 16%|█▌        | 3/19 [02:49<15:46, 59.19s/it]\u001b[A\n",
      " 21%|██        | 4/19 [03:30<12:56, 51.79s/it]\u001b[A\n",
      " 26%|██▋       | 5/19 [04:27<12:33, 53.85s/it]\u001b[A\n",
      " 32%|███▏      | 6/19 [05:06<10:35, 48.86s/it]\u001b[A\n",
      " 37%|███▋      | 7/19 [06:08<10:38, 53.17s/it]\u001b[A\n",
      " 42%|████▏     | 8/19 [06:59<09:35, 52.34s/it]\u001b[A\n",
      " 47%|████▋     | 9/19 [07:48<08:34, 51.48s/it]\u001b[A\n",
      " 53%|█████▎    | 10/19 [08:47<08:04, 53.79s/it]\u001b[A\n",
      " 58%|█████▊    | 11/19 [09:29<06:40, 50.12s/it]\u001b[A\n",
      " 63%|██████▎   | 12/19 [10:42<06:38, 56.94s/it]\u001b[A\n",
      " 68%|██████▊   | 13/19 [11:45<05:53, 58.94s/it]\u001b[A\n",
      " 74%|███████▎  | 14/19 [12:28<04:30, 54.18s/it]\u001b[A\n",
      " 79%|███████▉  | 15/19 [13:31<03:46, 56.67s/it]\u001b[A\n",
      " 84%|████████▍ | 16/19 [14:33<02:54, 58.32s/it]\u001b[A\n",
      " 89%|████████▉ | 17/19 [15:18<01:48, 54.21s/it]\u001b[A\n",
      " 95%|█████████▍| 18/19 [16:18<00:56, 56.07s/it]\u001b[A\n",
      "100%|██████████| 19/19 [16:59<00:00, 53.63s/it]\u001b[A\n",
      " 74%|███████▎  | 14/19 [4:04:12<1:26:22, 1036.43s/it]\n",
      "  0%|          | 0/19 [00:00<?, ?it/s]\u001b[A\n",
      "  5%|▌         | 1/19 [00:59<17:56, 59.80s/it]\u001b[A\n",
      " 11%|█         | 2/19 [02:07<18:17, 64.55s/it]\u001b[A\n",
      " 16%|█▌        | 3/19 [02:52<14:48, 55.54s/it]\u001b[A\n",
      " 21%|██        | 4/19 [03:53<14:22, 57.51s/it]\u001b[A\n",
      " 26%|██▋       | 5/19 [04:34<12:02, 51.61s/it]\u001b[A\n",
      " 32%|███▏      | 6/19 [05:34<11:49, 54.60s/it]\u001b[A\n",
      " 37%|███▋      | 7/19 [06:33<11:11, 55.99s/it]\u001b[A\n",
      " 42%|████▏     | 8/19 [07:16<09:30, 51.84s/it]\u001b[A\n",
      " 47%|████▋     | 9/19 [08:21<09:19, 55.93s/it]\u001b[A\n",
      " 53%|█████▎    | 10/19 [09:15<08:17, 55.26s/it]\u001b[A\n",
      " 58%|█████▊    | 11/19 [10:08<07:18, 54.84s/it]\u001b[A\n",
      " 63%|██████▎   | 12/19 [11:09<06:36, 56.60s/it]\u001b[A\n",
      " 68%|██████▊   | 13/19 [11:53<05:16, 52.77s/it]\u001b[A\n",
      " 74%|███████▎  | 14/19 [12:58<04:42, 56.58s/it]\u001b[A\n",
      " 79%|███████▉  | 15/19 [14:03<03:55, 58.89s/it]\u001b[A\n",
      " 84%|████████▍ | 16/19 [14:47<02:43, 54.65s/it]\u001b[A\n",
      " 89%|████████▉ | 17/19 [15:50<01:54, 57.07s/it]\u001b[A\n",
      " 95%|█████████▍| 18/19 [16:46<00:56, 56.83s/it]\u001b[A\n",
      "100%|██████████| 19/19 [17:34<00:00, 55.52s/it]\u001b[A\n",
      " 79%|███████▉  | 15/19 [4:21:46<1:09:28, 1042.01s/it]\n",
      "  0%|          | 0/19 [00:00<?, ?it/s]\u001b[A\n",
      "  5%|▌         | 1/19 [01:05<19:37, 65.39s/it]\u001b[A\n",
      " 11%|█         | 2/19 [01:50<15:08, 53.44s/it]\u001b[A\n",
      " 16%|█▌        | 3/19 [02:53<15:27, 57.98s/it]\u001b[A\n",
      " 21%|██        | 4/19 [04:01<15:24, 61.61s/it]\u001b[A\n",
      " 26%|██▋       | 5/19 [04:44<12:50, 55.01s/it]\u001b[A\n",
      " 32%|███▏      | 6/19 [05:55<13:08, 60.66s/it]\u001b[A\n",
      " 37%|███▋      | 7/19 [06:47<11:31, 57.62s/it]\u001b[A\n",
      " 42%|████▏     | 8/19 [07:37<10:07, 55.27s/it]\u001b[A\n",
      " 47%|████▋     | 9/19 [08:39<09:34, 57.44s/it]\u001b[A\n",
      " 53%|█████▎    | 10/19 [09:24<08:00, 53.43s/it]\u001b[A\n",
      " 58%|█████▊    | 11/19 [10:28<07:33, 56.63s/it]\u001b[A\n",
      " 63%|██████▎   | 12/19 [11:32<06:52, 58.88s/it]\u001b[A\n",
      " 68%|██████▊   | 13/19 [12:13<05:22, 53.68s/it]\u001b[A\n",
      " 74%|███████▎  | 14/19 [13:17<04:42, 56.60s/it]\u001b[A\n",
      " 79%|███████▉  | 15/19 [14:21<03:55, 58.90s/it]\u001b[A\n",
      " 84%|████████▍ | 16/19 [15:05<02:43, 54.56s/it]\u001b[A\n",
      " 89%|████████▉ | 17/19 [16:10<01:55, 57.58s/it]\u001b[A\n",
      " 95%|█████████▍| 18/19 [17:14<00:59, 59.41s/it]\u001b[A\n",
      "100%|██████████| 19/19 [18:01<00:00, 56.92s/it]\u001b[A\n",
      " 84%|████████▍ | 16/19 [4:39:48<52:41, 1053.90s/it]  \n",
      "  0%|          | 0/19 [00:00<?, ?it/s]\u001b[A\n",
      "  5%|▌         | 1/19 [01:02<18:41, 62.30s/it]\u001b[A\n",
      " 11%|█         | 2/19 [01:45<14:23, 50.78s/it]\u001b[A\n",
      " 16%|█▌        | 3/19 [02:51<15:24, 57.76s/it]\u001b[A\n",
      " 21%|██        | 4/19 [03:53<14:54, 59.65s/it]\u001b[A\n",
      " 26%|██▋       | 5/19 [04:40<12:49, 54.93s/it]\u001b[A\n",
      " 32%|███▏      | 6/19 [05:44<12:35, 58.14s/it]\u001b[A\n",
      " 37%|███▋      | 7/19 [06:48<12:02, 60.19s/it]\u001b[A\n",
      " 42%|████▏     | 8/19 [07:32<10:03, 54.90s/it]\u001b[A\n",
      " 47%|████▋     | 9/19 [08:34<09:32, 57.24s/it]\u001b[A\n",
      " 53%|█████▎    | 10/19 [09:16<07:52, 52.45s/it]\u001b[A\n",
      " 58%|█████▊    | 11/19 [10:14<07:11, 53.97s/it]\u001b[A\n",
      " 63%|██████▎   | 12/19 [10:55<05:51, 50.21s/it]\u001b[A\n",
      " 68%|██████▊   | 13/19 [11:57<05:22, 53.80s/it]\u001b[A\n",
      " 74%|███████▎  | 14/19 [12:58<04:39, 55.87s/it]\u001b[A\n",
      " 79%|███████▉  | 15/19 [13:40<03:27, 51.76s/it]\u001b[A\n",
      " 84%|████████▍ | 16/19 [14:48<02:49, 56.59s/it]\u001b[A\n",
      " 89%|████████▉ | 17/19 [15:47<01:54, 57.45s/it]\u001b[A\n",
      " 95%|█████████▍| 18/19 [16:29<00:52, 52.81s/it]\u001b[A\n",
      "100%|██████████| 19/19 [17:34<00:00, 55.51s/it]\u001b[A\n",
      " 89%|████████▉ | 17/19 [4:57:23<35:08, 1054.16s/it]\n",
      "  0%|          | 0/19 [00:00<?, ?it/s]\u001b[A\n",
      "  5%|▌         | 1/19 [00:41<12:33, 41.84s/it]\u001b[A\n",
      " 11%|█         | 2/19 [01:41<14:45, 52.09s/it]\u001b[A\n",
      " 16%|█▌        | 3/19 [02:45<15:24, 57.81s/it]\u001b[A\n",
      " 21%|██        | 4/19 [03:29<13:01, 52.10s/it]\u001b[A\n",
      " 26%|██▋       | 5/19 [04:37<13:29, 57.86s/it]\u001b[A\n",
      " 32%|███▏      | 6/19 [05:19<11:25, 52.74s/it]\u001b[A\n",
      " 37%|███▋      | 7/19 [06:21<11:06, 55.52s/it]\u001b[A\n",
      " 42%|████▏     | 8/19 [07:24<10:36, 57.86s/it]\u001b[A\n",
      " 47%|████▋     | 9/19 [08:06<08:50, 53.04s/it]\u001b[A\n",
      " 53%|█████▎    | 10/19 [09:08<08:21, 55.69s/it]\u001b[A\n",
      " 58%|█████▊    | 11/19 [10:08<07:36, 57.00s/it]\u001b[A\n",
      " 63%|██████▎   | 12/19 [10:50<06:07, 52.47s/it]\u001b[A\n",
      " 68%|██████▊   | 13/19 [11:51<05:31, 55.26s/it]\u001b[A\n",
      " 74%|███████▎  | 14/19 [12:56<04:50, 58.10s/it]\u001b[A\n",
      " 79%|███████▉  | 15/19 [13:38<03:33, 53.38s/it]\u001b[A\n",
      " 84%|████████▍ | 16/19 [14:39<02:46, 55.54s/it]\u001b[A\n",
      " 89%|████████▉ | 17/19 [15:20<01:42, 51.01s/it]\u001b[A\n",
      " 95%|█████████▍| 18/19 [16:25<00:55, 55.23s/it]\u001b[A\n",
      "100%|██████████| 19/19 [17:24<00:00, 54.96s/it]\u001b[A\n",
      " 95%|█████████▍| 18/19 [5:14:47<17:31, 1051.17s/it]\n",
      "  0%|          | 0/19 [00:00<?, ?it/s]\u001b[A\n",
      "  5%|▌         | 1/19 [00:44<13:28, 44.93s/it]\u001b[A\n",
      " 11%|█         | 2/19 [01:43<15:03, 53.16s/it]\u001b[A\n",
      " 16%|█▌        | 3/19 [02:23<12:33, 47.08s/it]\u001b[A\n",
      " 21%|██        | 4/19 [03:24<13:09, 52.62s/it]\u001b[A\n",
      " 26%|██▋       | 5/19 [04:21<12:38, 54.15s/it]\u001b[A\n",
      " 32%|███▏      | 6/19 [05:08<11:12, 51.72s/it]\u001b[A\n",
      " 37%|███▋      | 7/19 [06:09<10:56, 54.67s/it]\u001b[A\n",
      " 42%|████▏     | 8/19 [06:50<09:15, 50.46s/it]\u001b[A\n",
      " 47%|████▋     | 9/19 [07:55<09:10, 55.02s/it]\u001b[A\n",
      " 53%|█████▎    | 10/19 [08:57<08:33, 57.07s/it]\u001b[A\n",
      " 58%|█████▊    | 11/19 [09:38<06:57, 52.14s/it]\u001b[A\n",
      " 63%|██████▎   | 12/19 [10:42<06:29, 55.60s/it]\u001b[A\n",
      " 68%|██████▊   | 13/19 [11:23<05:07, 51.24s/it]\u001b[A\n",
      " 74%|███████▎  | 14/19 [12:27<04:36, 55.28s/it]\u001b[A\n",
      " 79%|███████▉  | 15/19 [13:26<03:45, 56.43s/it]\u001b[A\n",
      " 84%|████████▍ | 16/19 [14:09<02:36, 52.31s/it]\u001b[A\n",
      " 89%|████████▉ | 17/19 [15:14<01:51, 55.95s/it]\u001b[A\n",
      " 95%|█████████▍| 18/19 [15:56<00:51, 51.87s/it]\u001b[A\n",
      "100%|██████████| 19/19 [17:00<00:00, 53.69s/it]\u001b[A\n",
      "100%|██████████| 19/19 [5:31:47<00:00, 1047.76s/it]\n"
     ]
    }
   ],
   "source": [
    "from tqdm import tqdm\n",
    "levels = 10\n",
    "blist = np.arange(0.8,0.99,0.01)\n",
    "alist = np.arange(0.8,0.99,0.01)\n",
    "philist = np.arange(0.1,6.27, 0.5)\n",
    "def minicaul(a,b,phi):\n",
    "    points = circle\n",
    "    for i in range(levels):\n",
    "        fps = f(points,b)\n",
    "        gps = g(points,a,phi)\n",
    "        points = np.concatenate([fps,gps])\n",
    "        points = points[np.random.choice(len(points),10000)]\n",
    "    return points\n",
    "all_points = []\n",
    "for a in tqdm(alist):\n",
    "    for b in tqdm(blist):\n",
    "        if a+2*b >= 1: # test for connectivity\n",
    "            for phi in philist:\n",
    "                all_points.append(minicaul(a,b,phi))"
   ]
  },
  {
   "cell_type": "code",
   "execution_count": null,
   "metadata": {},
   "outputs": [],
   "source": [
    "# random walk method\n",
    "# walk a "
   ]
  },
  {
   "cell_type": "code",
   "execution_count": 82,
   "metadata": {},
   "outputs": [
    {
     "data": {
      "text/plain": [
       "(4693, 10000, 2)"
      ]
     },
     "execution_count": 82,
     "metadata": {},
     "output_type": "execute_result"
    }
   ],
   "source": [
    "all_points = np.array(all_points)\n",
    "all_points.shape"
   ]
  },
  {
   "cell_type": "code",
   "execution_count": 83,
   "metadata": {},
   "outputs": [],
   "source": [
    "all_points_squashed = all_points.reshape(46930000,2)"
   ]
  },
  {
   "cell_type": "code",
   "execution_count": 67,
   "metadata": {},
   "outputs": [
    {
     "data": {
      "text/plain": [
       "(12400000, 2)"
      ]
     },
     "execution_count": 67,
     "metadata": {},
     "output_type": "execute_result"
    }
   ],
   "source": [
    "all_points_squashed.shape"
   ]
  },
  {
   "cell_type": "code",
   "execution_count": 84,
   "metadata": {},
   "outputs": [
    {
     "data": {
      "text/plain": [
       "<matplotlib.collections.PathCollection at 0x7f9210b58b50>"
      ]
     },
     "execution_count": 84,
     "metadata": {},
     "output_type": "execute_result"
    },
    {
     "data": {
      "image/png": "[encoded data removed]",
      "text/plain": [
       "<Figure size 432x288 with 1 Axes>"
      ]
     },
     "metadata": {
      "needs_background": "light"
     },
     "output_type": "display_data"
    }
   ],
   "source": [
    "import matplotlib.pyplot as plt\n",
    "plt.scatter(all_points[:,0],all_points[:,1],s=1)"
   ]
  },
  {
   "cell_type": "code",
   "execution_count": 38,
   "metadata": {},
   "outputs": [
    {
     "data": {
      "text/plain": [
       "(19907744, 2)"
      ]
     },
     "execution_count": 38,
     "metadata": {},
     "output_type": "execute_result"
    }
   ],
   "source": [
    "points.shape"
   ]
  },
  {
   "cell_type": "code",
   "execution_count": 43,
   "metadata": {},
   "outputs": [
    {
     "data": {
      "text/plain": [
       "array([27, 37, 34,  5, 12, 25, 87, 81, 17, 17])"
      ]
     },
     "execution_count": 43,
     "metadata": {},
     "output_type": "execute_result"
    }
   ],
   "source": [
    "np.random.choice(100,10)"
   ]
  },
  {
   "cell_type": "code",
   "execution_count": 57,
   "metadata": {},
   "outputs": [
    {
     "name": "stderr",
     "output_type": "stream",
     "text": [
      "100%|██████████| 1000/1000 [00:00<00:00, 1424695.65it/s]\n"
     ]
    }
   ],
   "source": [
    "from tqdm import trange\n",
    "for i in trange(1000):\n",
    "    pass"
   ]
  },
  {
   "cell_type": "code",
   "execution_count": null,
   "metadata": {},
   "outputs": [],
   "source": []
  }
 ],
 "metadata": {
  "kernelspec": {
   "display_name": "rutabaga",
   "language": "python",
   "name": "rutabaga"
  },
  "language_info": {
   "codemirror_mode": {
    "name": "ipython",
    "version": 3
   },
   "file_extension": ".py",
   "mimetype": "text/x-python",
   "name": "python",
   "nbconvert_exporter": "python",
   "pygments_lexer": "ipython3",
   "version": "3.8.5"
  }
 },
 "nbformat": 4,
 "nbformat_minor": 4
}
