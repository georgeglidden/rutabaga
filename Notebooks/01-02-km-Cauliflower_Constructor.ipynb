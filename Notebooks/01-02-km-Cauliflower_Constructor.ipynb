{
 "cells": [
  {
   "cell_type": "markdown",
   "metadata": {},
   "source": [
    "# Cauliflower Constructor"
   ]
  },
  {
   "cell_type": "code",
   "execution_count": null,
   "metadata": {},
   "outputs": [],
   "source": [
    "a = 0.5\n",
    "b = 0.4\n",
    "\n",
    "def apply_f(points):\n",
    "    points = "
   ]
  },
  {
   "cell_type": "code",
   "execution_count": 14,
   "metadata": {},
   "outputs": [
    {
     "name": "stdout",
     "output_type": "stream",
     "text": [
      "6.196626439493244e+40\n"
     ]
    }
   ],
   "source": [
    "d = 0.01\n",
    "g = 1\n",
    "def apply_Q(x,y):\n",
    "    return d*x + g*y\n",
    "x = d\n",
    "y = d*g\n",
    "for i in range(10000):\n",
    "    new_x = y\n",
    "    new_y = apply_Q(x,y)\n",
    "    x = new_x\n",
    "    y = new_y\n",
    "print(new_y)"
   ]
  },
  {
   "cell_type": "code",
   "execution_count": null,
   "metadata": {},
   "outputs": [],
   "source": []
  },
  {
   "cell_type": "code",
   "execution_count": null,
   "metadata": {},
   "outputs": [],
   "source": []
  }
 ],
 "metadata": {
  "kernelspec": {
   "display_name": "rutabaga",
   "language": "python",
   "name": "rutabaga"
  },
  "language_info": {
   "codemirror_mode": {
    "name": "ipython",
    "version": 3
   },
   "file_extension": ".py",
   "mimetype": "text/x-python",
   "name": "python",
   "nbconvert_exporter": "python",
   "pygments_lexer": "ipython3",
   "version": "3.8.5"
  }
 },
 "nbformat": 4,
 "nbformat_minor": 4
}
