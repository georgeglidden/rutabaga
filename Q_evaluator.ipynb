{
 "cells": [
  {
   "cell_type": "markdown",
   "metadata": {},
   "source": [
    "# Q Evaluator\n",
    "Functions for evaluating the Q polynomials at specific points.\n",
    "Usage:\n"
   ]
  },
  {
   "cell_type": "code",
   "execution_count": 23,
   "metadata": {},
   "outputs": [],
   "source": [
    "# load the datafiles\n",
    "import pandas as pd\n",
    "polys = pd.read_csv('data/q_to_denom_100.csv', dtype=str)"
   ]
  },
  {
   "cell_type": "code",
   "execution_count": 15,
   "metadata": {},
   "outputs": [],
   "source": [
    "def eval_q_at_x(fraction, x):\n",
    "    \"\"\"\n",
    "    Retrieves the Q polynomial of the specified fraction. Evaluates the polynomial at the given point x.\n",
    "    The fraction should be passed as an array.\n",
    "    \"\"\"\n",
    "    string_fraction = f\"[{fraction[0]},{fraction[1]}]\"\n",
    "    p = polys[string_fraction].to_list()\n",
    "    p = [int(s) for s in p]    \n",
    "    # cuts off leading zeros\n",
    "    i = 0\n",
    "    sum = p[i]\n",
    "    while sum == 0:\n",
    "        i += 1\n",
    "        sum += abs(p[i])\n",
    "    p = p[i:]\n",
    "    # evaluates polynomial\n",
    "    val = 0\n",
    "    for i, coeff in enumerate(p[::-1]):\n",
    "        val += x**i * coeff\n",
    "    return val\n",
    "    "
   ]
  },
  {
   "cell_type": "code",
   "execution_count": 17,
   "metadata": {},
   "outputs": [
    {
     "data": {
      "text/plain": [
       "-5"
      ]
     },
     "execution_count": 17,
     "metadata": {},
     "output_type": "execute_result"
    }
   ],
   "source": [
    "eval_q_at_x([1,3],6)"
   ]
  },
  {
   "cell_type": "code",
   "execution_count": 41,
   "metadata": {},
   "outputs": [],
   "source": [
    "import numpy as np\n",
    "import matplotlib.pyplot as plt\n",
    "def down_the_triangle(alpha, gamma, x):\n",
    "    alpha = np.array(alpha)\n",
    "    gamma = np.array(gamma)\n",
    "    # print recurrence matrix for gamma\n",
    "    R = np.array(\n",
    "    [[1,0],\n",
    "    [(-1)**(gamma[0]+1)* x**gamma[1], eval_q_at_x(gamma, x)]]\n",
    "    )\n",
    "    print(R)\n",
    "    # print x evaluated at the polynomials alpha +n gamma\n",
    "    seq = []\n",
    "    for i in range(20):\n",
    "        mix = alpha + gamma*i\n",
    "        seq.append(eval_q_at_x(mix,x))\n",
    "        print(seq[-1])\n",
    "    # plot all of these points\n",
    "    reals = [s.real for s in seq]\n",
    "    imags = [s.imag for s in seq]\n",
    "    colors = np.arange(len(seq))\n",
    "    plt.scatter(reals,imags, c= colors)"
   ]
  },
  {
   "cell_type": "code",
   "execution_count": 42,
   "metadata": {},
   "outputs": [
    {
     "name": "stdout",
     "output_type": "stream",
     "text": [
      "[[1 0]\n",
      " [1 1]]\n",
      "1\n",
      "1\n",
      "2\n",
      "3\n",
      "5\n",
      "8\n",
      "13\n",
      "21\n",
      "34\n",
      "55\n",
      "89\n",
      "144\n",
      "233\n",
      "377\n",
      "610\n",
      "987\n",
      "1597\n",
      "2584\n",
      "4181\n",
      "6765\n"
     ]
    },
    {
     "data": {
      "image/png": "[encoded data removed]",
      "text/plain": [
       "<Figure size 432x288 with 1 Axes>"
      ]
     },
     "metadata": {
      "needs_background": "light"
     },
     "output_type": "display_data"
    }
   ],
   "source": [
    "# from 0 to 1, the Fibonacci sequence\n",
    "down_the_triangle([0,1],[1,1],1)"
   ]
  },
  {
   "cell_type": "code",
   "execution_count": 43,
   "metadata": {},
   "outputs": [
    {
     "name": "stdout",
     "output_type": "stream",
     "text": [
      "[[1.+0.j 0.+0.j]\n",
      " [0.+1.j 1.+0.j]]\n",
      "(1+0j)\n",
      "(1+0j)\n",
      "(1+1j)\n",
      "(1+2j)\n",
      "3j\n",
      "(-2+4j)\n",
      "(-5+4j)\n",
      "(-9+2j)\n",
      "(-13-3j)\n",
      "(-15-12j)\n",
      "(-12-25j)\n",
      "-40j\n",
      "(25-52j)\n",
      "(65-52j)\n",
      "(117-27j)\n",
      "(169+38j)\n",
      "(196+155j)\n",
      "(158+324j)\n",
      "(3+520j)\n",
      "(-321+678j)\n"
     ]
    },
    {
     "data": {
      "image/png": "[encoded data removed]",
      "text/plain": [
       "<Figure size 432x288 with 1 Axes>"
      ]
     },
     "metadata": {
      "needs_background": "light"
     },
     "output_type": "display_data"
    }
   ],
   "source": [
    "down_the_triangle([0,1],[1,1],0+1j)"
   ]
  },
  {
   "cell_type": "code",
   "execution_count": 44,
   "metadata": {},
   "outputs": [
    {
     "name": "stdout",
     "output_type": "stream",
     "text": [
      "[[ 1.+0.j  0.+0.j]\n",
      " [-0.-1.j  1.+0.j]]\n",
      "(1+0j)\n",
      "(1-1j)\n",
      "(1-2j)\n",
      "-3j\n",
      "(-2-4j)\n",
      "(-5-4j)\n",
      "(-9-2j)\n",
      "(-13+3j)\n",
      "(-15+12j)\n",
      "(-12+25j)\n",
      "40j\n",
      "(25+52j)\n",
      "(65+52j)\n",
      "(117+27j)\n",
      "(169-38j)\n",
      "(196-155j)\n",
      "(158-324j)\n",
      "(3-520j)\n",
      "(-321-678j)\n",
      "(-841-681j)\n"
     ]
    },
    {
     "data": {
      "image/png": "[encoded data removed]",
      "text/plain": [
       "<Figure size 432x288 with 1 Axes>"
      ]
     },
     "metadata": {
      "needs_background": "light"
     },
     "output_type": "display_data"
    }
   ],
   "source": [
    "down_the_triangle([1,2],[0,1],0+1j)"
   ]
  },
  {
   "cell_type": "code",
   "execution_count": 45,
   "metadata": {},
   "outputs": [
    {
     "name": "stdout",
     "output_type": "stream",
     "text": [
      "[[ 1.+0.j  0.+0.j]\n",
      " [-1.+0.j  1.+0.j]]\n",
      "(1-1j)\n",
      "-1j\n",
      "(-1+0j)\n",
      "(-1+1j)\n",
      "1j\n",
      "(1+0j)\n",
      "(1-1j)\n",
      "-1j\n",
      "(-1+0j)\n",
      "(-1+1j)\n",
      "1j\n",
      "(1+0j)\n",
      "(1-1j)\n",
      "-1j\n",
      "(-1+0j)\n",
      "(-1+1j)\n",
      "1j\n",
      "(1+0j)\n",
      "(1-1j)\n",
      "-1j\n"
     ]
    },
    {
     "data": {
      "image/png": "[encoded data removed]",
      "text/plain": [
       "<Figure size 432x288 with 1 Axes>"
      ]
     },
     "metadata": {
      "needs_background": "light"
     },
     "output_type": "display_data"
    }
   ],
   "source": [
    "down_the_triangle([1,3],[1,2],0+1j)"
   ]
  },
  {
   "cell_type": "code",
   "execution_count": 45,
   "metadata": {},
   "outputs": [
    {
     "name": "stdout",
     "output_type": "stream",
     "text": [
      "[[ 1.+0.j  0.+0.j]\n",
      " [-1.+0.j  1.+0.j]]\n",
      "(1-1j)\n",
      "-1j\n",
      "(-1+0j)\n",
      "(-1+1j)\n",
      "1j\n",
      "(1+0j)\n",
      "(1-1j)\n",
      "-1j\n",
      "(-1+0j)\n",
      "(-1+1j)\n",
      "1j\n",
      "(1+0j)\n",
      "(1-1j)\n",
      "-1j\n",
      "(-1+0j)\n",
      "(-1+1j)\n",
      "1j\n",
      "(1+0j)\n",
      "(1-1j)\n",
      "-1j\n"
     ]
    },
    {
     "data": {
      "image/png": "[encoded data removed]",
      "text/plain": [
       "<Figure size 432x288 with 1 Axes>"
      ]
     },
     "metadata": {
      "needs_background": "light"
     },
     "output_type": "display_data"
    }
   ],
   "source": [
    "down_the_triangle([1,3],[1,2],0+1j)"
   ]
  },
  {
   "cell_type": "code",
   "execution_count": 46,
   "metadata": {},
   "outputs": [
    {
     "data": {
      "text/plain": [
       "12"
      ]
     },
     "execution_count": 46,
     "metadata": {},
     "output_type": "execute_result"
    }
   ],
   "source": [
    "import math\n",
    "math.gcd(12,60)"
   ]
  },
  {
   "cell_type": "code",
   "execution_count": 70,
   "metadata": {},
   "outputs": [
    {
     "data": {
      "text/plain": [
       "(-5.0, 5.0)"
      ]
     },
     "execution_count": 70,
     "metadata": {},
     "output_type": "execute_result"
    },
    {
     "data": {
      "image/png": "[encoded data removed]",
      "text/plain": [
       "<Figure size 432x288 with 1 Axes>"
      ]
     },
     "metadata": {
      "needs_background": "light"
     },
     "output_type": "display_data"
    }
   ],
   "source": [
    "# plot of the antiroot function\n",
    "# get all fractions with denom up to max denom in unit interval\n",
    "x = 0.25j+0.5\n",
    "max_denom = 100\n",
    "fracs = [[0,1]]\n",
    "for i in range(1,max_denom):\n",
    "    g = math.gcd(i, max_denom)\n",
    "    fracs.append([int(i/g),int(max_denom/g)])\n",
    "ys = []\n",
    "for f in fracs:\n",
    "    ys.append(eval_q_at_x(f,x))\n",
    "# plot all of these points\n",
    "reals = [s.real for s in ys]\n",
    "imags = [s.imag for s in ys]\n",
    "colors = np.arange(len(ys))\n",
    "plt.scatter(colors,reals, c= colors)\n",
    "# plt.xlim(-1,2)\n",
    "plt.ylim(-5,5)"
   ]
  },
  {
   "cell_type": "code",
   "execution_count": 71,
   "metadata": {},
   "outputs": [
    {
     "data": {
      "text/plain": [
       "array([-8.54215527e+13-5.97577133e+13j, -8.01765586e+13-6.91948512e+13j,\n",
       "       -7.31025192e+13-7.78942512e+13j, -6.44436749e+13-8.52642838e+13j,\n",
       "       -5.46940325e+13-9.08700788e+13j, -4.44752380e+13-9.45435825e+13j,\n",
       "       -3.43765584e+13-9.63976528e+13j, -2.48274338e+13-9.67485439e+13j,\n",
       "       -1.60442456e+13-9.59943648e+13j, -8.04955443e+12-9.45019892e+13j,\n",
       "       -7.36936772e+11-9.25332337e+13j,  6.04841508e+12-9.02186180e+13j,\n",
       "        1.24373928e+13-8.75737174e+13j,  1.84903960e+13-8.45449979e+13j,\n",
       "        2.41851886e+13-8.10658032e+13j,  2.94354532e+13-7.71017806e+13j,\n",
       "        3.41245606e+13-7.26727009e+13j,  3.81362207e+13-6.78519125e+13j,\n",
       "        4.13723382e+13-6.27556472e+13j,  4.37610132e+13-5.75344173e+13j,\n",
       "        4.52643998e+13-5.23698303e+13j,  4.58932112e+13-4.74702858e+13j,\n",
       "        4.57250181e+13-4.30557134e+13j,  4.49147274e+13-3.93278947e+13j,\n",
       "        4.36858964e+13-3.64348340e+13j,  4.23023583e+13-3.44447888e+13j,\n",
       "        4.10322108e+13-3.33405469e+13j,  4.01192622e+13-3.30314691e+13j,\n",
       "        3.97686386e+13-3.33714369e+13j,  4.01419975e+13-3.41720203e+13j,\n",
       "        4.13525547e+13-3.52088543e+13j,  4.34535116e+13-3.62280845e+13j,\n",
       "        4.64226639e+13-3.69625341e+13j,  5.01543295e+13-3.71610842e+13j,\n",
       "        5.44695837e+13-3.66232206e+13j,  5.91453156e+13-3.52236202e+13j,\n",
       "        6.39503170e+13-3.29164765e+13j,  6.86736254e+13-2.97219483e+13j,\n",
       "        7.31383698e+13-2.57061420e+13j,  7.72050046e+13-2.09650087e+13j,\n",
       "        8.07727738e+13-1.56145542e+13j,  8.37852784e+13-9.78157377e+12j,\n",
       "        8.62375632e+13-3.58629307e+12j,  8.81736786e+13+2.88609264e+12j,\n",
       "        8.96629130e+13+9.61588715e+12j,  9.07536515e+13+1.66629699e+13j,\n",
       "        9.14192261e+13+2.41490217e+13j,  9.15180168e+13+3.22061505e+13j,\n",
       "        9.07863134e+13+4.09040089e+13j,  8.88735734e+13+5.01745778e+13j,\n",
       "        8.54215557e+13+5.97576960e+13j,  8.01765653e+13+6.91948344e+13j,\n",
       "        7.31025292e+13+7.78942363e+13j,  6.44436872e+13+8.52642717e+13j,\n",
       "        5.46940461e+13+9.08700695e+13j,  4.44752522e+13+9.45435758e+13j,\n",
       "        3.43765727e+13+9.63976484e+13j,  2.48274479e+13+9.67485417e+13j,\n",
       "        1.60442592e+13+9.59943648e+13j,  8.04956702e+12+9.45019910e+13j,\n",
       "        7.36948053e+11+9.25332368e+13j, -6.04840520e+12+9.02186219e+13j,\n",
       "       -1.24373841e+13+8.75737214e+13j, -1.84903880e+13+8.45450018e+13j,\n",
       "       -2.41851806e+13+8.10658069e+13j, -2.94354449e+13+7.71017844e+13j,\n",
       "       -3.41245516e+13+7.26727054e+13j, -3.81362112e+13+6.78519182e+13j,\n",
       "       -4.13723285e+13+6.27556547e+13j, -4.37610040e+13+5.75344267e+13j,\n",
       "       -4.52643916e+13+5.23698416e+13j, -4.58932045e+13+4.74702988e+13j,\n",
       "       -4.57250132e+13+4.30557279e+13j, -4.49147245e+13+3.93279105e+13j,\n",
       "       -4.36858962e+13+3.64348509e+13j, -4.23023613e+13+3.44448062e+13j,\n",
       "       -4.10322175e+13+3.33405637e+13j, -4.01192722e+13+3.30314840e+13j,\n",
       "       -3.97686509e+13+3.33714490e+13j, -4.01420111e+13+3.41720297e+13j,\n",
       "       -4.13525689e+13+3.52088610e+13j, -4.34535259e+13+3.62280889e+13j,\n",
       "       -4.64226780e+13+3.69625362e+13j, -5.01543431e+13+3.71610842e+13j,\n",
       "       -5.44695963e+13+3.66232188e+13j, -5.91453269e+13+3.52236170e+13j,\n",
       "       -6.39503269e+13+3.29164725e+13j, -6.86736341e+13+2.97219442e+13j,\n",
       "       -7.31383778e+13+2.57061381e+13j, -7.72050126e+13+2.09650050e+13j,\n",
       "       -8.07727821e+13+1.56145504e+13j, -8.37852874e+13+9.78156931e+12j,\n",
       "       -8.62375727e+13+3.58628736e+12j, -8.81736883e+13-2.88610007e+12j,\n",
       "       -8.96629222e+13-9.61589651e+12j, -9.07536597e+13-1.66629812e+13j,\n",
       "       -9.14192329e+13-2.41490347e+13j, -9.15180218e+13-3.22061649e+13j,\n",
       "       -9.07863163e+13-4.09040247e+13j, -8.88735737e+13-5.01745947e+13j])"
      ]
     },
     "execution_count": 71,
     "metadata": {},
     "output_type": "execute_result"
    }
   ],
   "source": [
    "np.fft.fft(ys)"
   ]
  },
  {
   "cell_type": "code",
   "execution_count": 68,
   "metadata": {},
   "outputs": [
    {
     "data": {
      "text/plain": [
       "[(1+0j),\n",
       " (0.001868909341328247-0.0030284838867021442j),\n",
       " (0.00797093107579272+0.002097875683091388j),\n",
       " (-0.0010534890529422876-0.0010244735773182224j),\n",
       " (-0.06271117925643921-0.05475044250488281j),\n",
       " (0.0911865234375+0.09578704833984375j),\n",
       " (-0.0050578830456196044+0.0029108248008355986j),\n",
       " (5.480170810973141e-05+5.798541926322957e-05j),\n",
       " (0.023100435733795166-0.06761550903320312j),\n",
       " (2.103568914242865e-06-1.2142143002961352e-06j),\n",
       " (0.17578125+0.28125j),\n",
       " (1.5749033518833994e-05-1.2009276820073782e-05j),\n",
       " (0.06531006097793579-0.013017654418945312j),\n",
       " (7.5332619318861096e-06+2.7857008480550105e-06j),\n",
       " (0.0009287568902074383+0.0007721307238739428j),\n",
       " (-0.067657470703125-0.01354217529296875j),\n",
       " (-0.007359921932220459+0.046749114990234375j),\n",
       " (-8.426689130986215e-06+1.2851776059669358e-05j),\n",
       " (-0.0042045207939587215-0.005119983406984829j),\n",
       " (-3.5220776265303724e-05+0.00011319738983326809j),\n",
       " (-0.3125-0.5j),\n",
       " (-3.6605319282019133e-06+7.956979354103233e-05j),\n",
       " (-0.0034002488616202697-0.002501420843145752j),\n",
       " (8.36566758751053e-06+2.25572692842723e-06j),\n",
       " (0.005644381046295166+0.046642303466796875j),\n",
       " -0.5j,\n",
       " (-0.00022958755124236063-0.00015818313841009513j),\n",
       " (-1.9675956606590973e-09-2.4757845553928566e-09j),\n",
       " (-0.002973020076751709+0.0022220611572265625j),\n",
       " (5.154642328656272e-13+1.1758803604081825e-13j),\n",
       " (0.01953125-0.03125j),\n",
       " (-3.4280512812033e-11+3.9677007758318734e-11j),\n",
       " (0.0016713738441467285-0.0033998489379882812j),\n",
       " (2.9901930434545377e-09+2.789235959414225e-09j),\n",
       " (8.113604863879686e-05+0.00015054962858584986j),\n",
       " (0.03900146484375+0.01354217529296875j),\n",
       " (0.025036394596099854+0.009016990661621094j),\n",
       " (1.2017840565923435e-06+4.3378271850673664e-07j),\n",
       " (0.0030287547188585506-0.0010996943452710184j),\n",
       " (9.29762512982236e-05-0.00015029426362351268j),\n",
       " (0.6875+0j),\n",
       " (0.00758285275776242-0.003539653692226163j),\n",
       " (0.15671739707528687+0.03998570057262896j),\n",
       " (0.007590458196665415+0.08482051912842886j),\n",
       " (0.6934018731117249+0.4774770736694336j),\n",
       " (0.96478271484375+0.7449874877929688j),\n",
       " (-1.7723821604233159+3.227056080742841j),\n",
       " (20.58855730166363-65.87412682003018j),\n",
       " (0.43139129877090454+4.307491302490234j),\n",
       " (1593.9756377091264+808.3223605726108j),\n",
       " (1+0j),\n",
       " (4463.563157214131+10481.314209464244j),\n",
       " (-2.700042188167572+10.590886116027832j),\n",
       " (12079.313383316085+13175.773765394877j),\n",
       " (-141.59104723807144-48.42737866456707j),\n",
       " (1.663787841796875+7.570930480957031j),\n",
       " (-1.0788435339927673+13.664430618286133j),\n",
       " (44815.5115022184+6244.344209541564j),\n",
       " (-233.24717653594024-3.078198326316169j),\n",
       " (64653.80039561372-4740.745641299023j),\n",
       " (1.6875+0.5j),\n",
       " (78598.23601384224-56312.92853235931j),\n",
       " (-299.00190751011877+177.61455607551284j),\n",
       " (6567.396202359893-154577.833337293j),\n",
       " (10.117353975772858+18.648515701293945j),\n",
       " (8.749725341796875+8.443000793457031j),\n",
       " (-70.46574050286162+586.1602091118757j),\n",
       " (-510561.0667559749-42147.33077510116j),\n",
       " (18.972483217716217+24.74915885925293j),\n",
       " (-988982.848985193-1438613.8951929575j),\n",
       " (4.01953125+1.96875j),\n",
       " (1699190.3331366326-5730005.443950382j),\n",
       " (12.282791674137115+56.735724449157715j),\n",
       " (19901804.00353418-9281314.265748864j),\n",
       " (-6512.807115451067+67.63071256868272j),\n",
       " (2+0.5j),\n",
       " (-12.534602582454681+108.95229053497314j),\n",
       " (221437415.5991234+127222486.80622031j),\n",
       " (-20344.083051355803-6119.713379152622j),\n",
       " (639315697.7654868+482482440.16351163j),\n",
       " (2.6875+1j),\n",
       " (1551495860.594794+1968395423.0826688j),\n",
       " (-56712.28568613199-34692.632724133335j),\n",
       " (2139423103.4213228+7498488704.207471j),\n",
       " (-122.3648676276207+320.69659900665283j),\n",
       " (-0.90142822265625+119.93883514404297j),\n",
       " (-133874.30917296352-162368.1776313139j),\n",
       " (-27341581342.026566+73626265654.36612j),\n",
       " (-304.80100959539413+529.7769041061401j),\n",
       " (-155769412430.39282+193485778158.00287j),\n",
       " (9.42578125+11.15625j),\n",
       " (-660656931456.9808+424486447874.5831j),\n",
       " (-685.9331621527672+843.3214311599731j),\n",
       " (-2406401724897.6597+612797203740.8263j),\n",
       " (-92932.44993017316-2099330.96852027j),\n",
       " (-122.42648315429688+359.01700592041016j),\n",
       " (-1444.2505030035973+1284.909945487976j),\n",
       " (-22927999202974.617-9536040264939.363j),\n",
       " (1820533.636976443-6390925.358761552j),\n",
       " (-59247957343984.516-51536119997792.71j)]"
      ]
     },
     "execution_count": 68,
     "metadata": {},
     "output_type": "execute_result"
    }
   ],
   "source": [
    "ys"
   ]
  },
  {
   "cell_type": "code",
   "execution_count": null,
   "metadata": {},
   "outputs": [],
   "source": []
  }
 ],
 "metadata": {
  "kernelspec": {
   "display_name": "rutabaga",
   "language": "python",
   "name": "rutabaga"
  },
  "language_info": {
   "codemirror_mode": {
    "name": "ipython",
    "version": 3
   },
   "file_extension": ".py",
   "mimetype": "text/x-python",
   "name": "python",
   "nbconvert_exporter": "python",
   "pygments_lexer": "ipython3",
   "version": "3.8.5"
  }
 },
 "nbformat": 4,
 "nbformat_minor": 4
}
