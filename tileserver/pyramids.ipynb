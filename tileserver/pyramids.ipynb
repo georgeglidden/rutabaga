{
 "cells": [
  {
   "cell_type": "code",
   "execution_count": 2,
   "id": "alternative-prerequisite",
   "metadata": {},
   "outputs": [
    {
     "name": "stdout",
     "output_type": "stream",
     "text": [
      "153836\n",
      "(-0.9999999924, 0.9999999924, -0.9999999821, 0.9999999821)\n"
     ]
    }
   ],
   "source": [
    "# generate sample_points\n",
    "\n",
    "from csv import reader\n",
    "from itertools import chain\n",
    "from random import randint,random,seed\n",
    "from skimage.io import imread\n",
    "\n",
    "def flatten(nested_list):\n",
    "    return list(chain.from_iterable(nested_list))\n",
    "\n",
    "def get_points(path_to_data, x_bound=(-1.0, 1.0), y_bound=(-1.0, 1.0)):\n",
    "    points = []\n",
    "    with open(path_to_data, newline='') as data_file:\n",
    "        data = reader(data_file)\n",
    "        for line in data:\n",
    "            if line == '':\n",
    "                continue\n",
    "            l,x,y = line[:3]\n",
    "            if l == '':\n",
    "                continue\n",
    "            else:\n",
    "                x,y = float(x),float(y)\n",
    "                if x_bound[0] < x < x_bound[1] and y_bound[0] < y < y_bound[1]:\n",
    "                    points.append((x,y))\n",
    "    return points\n",
    "\n",
    "def gray_to_points(impath,threshold):\n",
    "    image = imread(impath,as_gray=True)\n",
    "    rows,cols = image.shape\n",
    "    points = []\n",
    "    for i in range(rows):\n",
    "        for j in range(cols):\n",
    "            if image[i,j] < threshold:\n",
    "                points.append((i,j))\n",
    "    print(rows*cols)\n",
    "    return points"
   ]
  },
  {
   "cell_type": "code",
   "execution_count": 3,
   "id": "falling-willow",
   "metadata": {},
   "outputs": [
    {
     "name": "stdout",
     "output_type": "stream",
     "text": [
      "341\n"
     ]
    }
   ],
   "source": [
    "def quarter(points, rect):\n",
    "    l,r,t,b = rect\n",
    "    mid_x, mid_y = ((l+r)/2,(t+b)/2)\n",
    "    if len(points) > 0:\n",
    "\n",
    "        points_by_x = sorted(points, key=lambda p: p[0])\n",
    "        nearest_x = min(points_by_x, key=lambda p: abs(mid_x - p[0]))\n",
    "        mid_x_i = points_by_x.index(nearest_x)\n",
    "\n",
    "        points_left_by_y = sorted(points_by_x[:mid_x_i], key=lambda p: p[1])\n",
    "        if len(points_left_by_y) > 0:\n",
    "            nearest_left_y = min(points_left_by_y, key=lambda p: abs(mid_y - p[1]))\n",
    "            mid_left_y_i = points_left_by_y.index(nearest_left_y)\n",
    "            points_left_top = points_left_by_y[:mid_left_y_i]\n",
    "            points_left_bottom = points_left_by_y[mid_left_y_i:]\n",
    "        else:\n",
    "            points_left_top = []\n",
    "            points_left_bottom = []\n",
    "\n",
    "        points_right_by_y = sorted(points_by_x[mid_x_i:], key=lambda p: p[1])\n",
    "        if len(points_right_by_y) > 0:\n",
    "            nearest_right_y = min(points_right_by_y, key=lambda p: abs(mid_y - p[1]))\n",
    "            mid_right_y_i = points_right_by_y.index(nearest_right_y)\n",
    "            points_right_top = points_right_by_y[:mid_right_y_i]\n",
    "            points_right_bottom = points_right_by_y[mid_right_y_i:]\n",
    "        else:\n",
    "            points_right_top = []\n",
    "            points_right_bottom = []\n",
    "    else:\n",
    "        points_left_top = []\n",
    "        points_left_bottom = []\n",
    "        points_right_top = []\n",
    "        points_right_bottom = []\n",
    "    \n",
    "    return [(points_left_top, [l, mid_x, t, mid_y]), \n",
    "            (points_right_top, [mid_x, r, t, mid_y]), \n",
    "            (points_right_bottom, [mid_x, r, mid_y, b]), \n",
    "            (points_left_bottom, [l, mid_x, mid_y, b])]\n",
    "\n",
    "def build_pyramid(sample_points,bounds,depth):\n",
    "    layers = [[(sample_points,bounds)]]\n",
    "    for i in range(1,depth):\n",
    "        tiles = flatten([quarter(points,rect) for points,rect in layers[i-1]])\n",
    "        layers.append(tiles)\n",
    "    return layers"
   ]
  },
  {
   "cell_type": "code",
   "execution_count": 20,
   "id": "careful-myanmar",
   "metadata": {},
   "outputs": [],
   "source": [
    "# generate tiles from pyramid\n",
    "from numpy import histogram2d\n",
    "from json import dump,load\n",
    "from os import path\n",
    "\n",
    "class Tile:\n",
    "# the Tile class holds all the information necessary to \n",
    "# 1. save and restore pointsets to and from a pyramid file structure;\n",
    "#    enable the TileServer to respond to PointSetQuery GET requests\n",
    "# 2. provide a TileClient with everything it needs to quickly render the pointset\n",
    "    def __init__(self, tile_id, pos, pointset, rect, fitted_rect = None, width=100):\n",
    "        self.id = tile_id\n",
    "        self.pos = pos\n",
    "        self.width = width\n",
    "        self.rect = [self.l, self.r, self.t, self.b] = rect\n",
    "        rect_bounds = [(self.l,self.t),(self.r,self.t),(self.r,self.b),(self.l,self.b)]\n",
    "       \n",
    "        if len(pointset) == 0:\n",
    "            self.points = rect_bounds\n",
    "        else:\n",
    "            self.points = pointset\n",
    "        xvals,yvals = list(zip(*self.points)) # unzip pointset\n",
    "        if fitted_rect == None:\n",
    "            fitted_rect = [min(xvals),max(xvals),min(yvals),max(yvals)]\n",
    "        self.fitted_rect = fitted_rect\n",
    "        xbounds,ybounds = list(zip(*rect_bounds)) # unzip bound set\n",
    "        self.density_map, _, __ = histogram2d(xvals+xbounds,yvals+ybounds,width)\n",
    "    \n",
    "    # the pointset is saved rather than the density map to prevent a storage req. explosion:\n",
    "    # if the density maps are stored, a pyramid occupies O(\\sum{(width^2)*4^i)}) for i in [0,depth]\n",
    "    # if the point sets are stored, a pyramid occupies O(d * width^2)\n",
    "    def save(self, pyramid_directory, path_to_tile=None):\n",
    "        if path_to_tile == None:\n",
    "            l,i,j = self.pos\n",
    "            path_to_tile = path.join(pyramid_directory, f'tile_z{l}_x{i}_y{j}.json')\n",
    "        tile_dict = dict()\n",
    "        tile_dict['id'] = self.id\n",
    "        tile_dict['pos'] = self.pos\n",
    "        tile_dict['rect'] = self.rect\n",
    "        tile_dict['fitted_rect'] = self.fitted_rect\n",
    "        tile_dict['points'] = self.points\n",
    "        dump(tile_dict, open(path_to_tile, 'w'))\n",
    "    \n",
    "    @classmethod\n",
    "    def load(cls, path_to_tile, width=100):\n",
    "        tile_dict = load(open(path_to_file, 'r'))\n",
    "        return cls(tile_dict['id'], tile_dict['pos'], tile_dict['points'], tile_dict['rect'], \n",
    "                   fitted_rect=tile_dict['fitted_rect'], width=width)\n",
    "    \n",
    "    @classmethod\n",
    "    def from_queryl(cls, pyramid_directory, query):\n",
    "        l,i,j = query.coordinates\n",
    "        width = query.resolution\n",
    "        path_to_file = path.join(pyramid_directory, f'tile_z{l}_x{i}_y{j}.json', width=width)"
   ]
  },
  {
   "cell_type": "code",
   "execution_count": 16,
   "id": "modified-warehouse",
   "metadata": {},
   "outputs": [
    {
     "name": "stdout",
     "output_type": "stream",
     "text": [
      "153836\n",
      "(-0.9999999924, 0.9999999924, -0.9999999821, 0.9999999821)\n"
     ]
    }
   ],
   "source": [
    "# 1. randomly sample N integer 2-tuples\n",
    "# N = int(3000)\n",
    "# minX = randint(-1e7,-1e2)\n",
    "# maxX = randint(1e2,1e7)\n",
    "# minY = randint(-1e7,-1e2)\n",
    "# maxY = randint(1e2,1e7)\n",
    "# sample_points = [(minX+(maxX*random()),minY+(maxY*random())) for _ in range(N)]\n",
    "\n",
    "# 2. sample points from a thresholded image\n",
    "# sample_points = gray_to_points('test.png', 0.5)\n",
    "\n",
    "# 3. load points from a .csv\n",
    "#### CHANGE ME #########################\n",
    "path_to_data = '../data/roots_130.csv'\n",
    "########################################\n",
    "sample_points = get_points(path_to_data)\n",
    "print(len(sample_points))\n",
    "\n",
    "# establish bounding rectangle\n",
    "left = min(p[0] for p in sample_points)\n",
    "right = max(p[0] for p in sample_points)\n",
    "top = min(p[1] for p in sample_points)\n",
    "bottom = max(p[1] for p in sample_points)\n",
    "print((left,right,top,bottom))"
   ]
  },
  {
   "cell_type": "code",
   "execution_count": 17,
   "id": "toxic-passion",
   "metadata": {},
   "outputs": [
    {
     "name": "stdout",
     "output_type": "stream",
     "text": [
      "341\n"
     ]
    }
   ],
   "source": [
    "# generate pyramid from sample_points\n",
    "d = 5\n",
    "pyramid = build_pyramid(sample_points,[left,right,top,bottom],d)\n",
    "nb_tiles = sum([len(l) for l in pyramid])\n",
    "print(nb_tiles)"
   ]
  },
  {
   "cell_type": "code",
   "execution_count": 22,
   "id": "polyphonic-nightlife",
   "metadata": {},
   "outputs": [
    {
     "name": "stdout",
     "output_type": "stream",
     "text": [
      "341\n",
      "341\n"
     ]
    }
   ],
   "source": [
    "# generate Tile objects from pyramid\n",
    "width = 100\n",
    "print(nb_tiles)\n",
    "tiles = []\n",
    "for z in range(d):\n",
    "    for q in pyramid[z]:\n",
    "        pointset, rect = q\n",
    "        scale_x = lambda x: (x - left)//((right-left)/(2**z))\n",
    "        scale_y = lambda y: (y - top)//((bottom-top)/(2**z))\n",
    "        pos = (z,scale_x(min(rect[0],rect[1])),scale_y(min(rect[2],rect[3])))\n",
    "        #print([len(tiles),pos,len(pointset)], end=', ')\n",
    "        tile = Tile(len(tiles), pos, pointset, rect, width=width)\n",
    "        tiles.append(tile)\n",
    "    #print()\n",
    "print(len(tiles))"
   ]
  },
  {
   "cell_type": "code",
   "execution_count": 23,
   "id": "neutral-advancement",
   "metadata": {},
   "outputs": [],
   "source": [
    "# run this cell to create a pyramiad at PYR_DIR\n",
    "###########\n",
    "PYR_DIR = './pyramid/'\n",
    "###########\n",
    "import os\n",
    "if not os.path.isdir(PYR_DIR):\n",
    "    os.mkdir(PYR_DIR)\n",
    "assert len(tiles) > 0\n",
    "for T in tiles:\n",
    "    T.save(PYR_DIR)"
   ]
  }
 ],
 "metadata": {
  "kernelspec": {
   "display_name": "Python 3",
   "language": "python",
   "name": "python3"
  },
  "language_info": {
   "codemirror_mode": {
    "name": "ipython",
    "version": 3
   },
   "file_extension": ".py",
   "mimetype": "text/x-python",
   "name": "python",
   "nbconvert_exporter": "python",
   "pygments_lexer": "ipython3",
   "version": "3.8.5"
  }
 },
 "nbformat": 4,
 "nbformat_minor": 5
}
