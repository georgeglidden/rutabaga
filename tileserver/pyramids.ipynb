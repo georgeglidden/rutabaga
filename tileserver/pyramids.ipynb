{
 "cells": [
  {
   "cell_type": "code",
   "execution_count": 1,
   "id": "egyptian-directive",
   "metadata": {},
   "outputs": [],
   "source": [
    "# generate sample_points\n",
    "\n",
    "from csv import reader\n",
    "from itertools import chain\n",
    "from random import randint,random,seed\n",
    "from skimage.io import imread\n",
    "\n",
    "def flatten(nested_list):\n",
    "    return list(chain.from_iterable(nested_list))\n",
    "\n",
    "def get_points(path_to_data, x_bounds=(-1.0, 1.0), y_bounds=(-1.0, 1.0)):\n",
    "    points = []\n",
    "    with open(path_to_data, newline='') as data_file:\n",
    "        data = reader(data_file)\n",
    "        for line in data:\n",
    "            if line == '':\n",
    "                continue\n",
    "            l,x,y = line[:3]\n",
    "            if l == '':\n",
    "                continue\n",
    "            else:\n",
    "                x,y = float(x),float(y)\n",
    "                if x_bounds[0] < x < x_bounds[1] and y_bounds[0] < y < y_bounds[1]:\n",
    "                    points.append((x,y))\n",
    "    return points\n",
    "\n",
    "def gray_to_points(impath,threshold):\n",
    "    image = imread(impath,as_gray=True)\n",
    "    rows,cols = image.shape\n",
    "    points = []\n",
    "    for i in range(rows):\n",
    "        for j in range(cols):\n",
    "            if image[i,j] < threshold:\n",
    "                points.append((i,j))\n",
    "    print(rows*cols)\n",
    "    return points"
   ]
  },
  {
   "cell_type": "code",
   "execution_count": 31,
   "id": "political-equivalent",
   "metadata": {},
   "outputs": [],
   "source": [
    "def quarter(points, rect):\n",
    "    l,r,t,b = rect\n",
    "    mid_x, mid_y = ((l+r)/2,(t+b)/2)\n",
    "    if len(points) > 0:\n",
    "\n",
    "        points_by_x = sorted(points, key=lambda p: p[0])\n",
    "        nearest_x = min(points_by_x, key=lambda p: abs(mid_x - p[0]))\n",
    "        mid_x_i = points_by_x.index(nearest_x)\n",
    "\n",
    "        points_left_by_y = sorted(points_by_x[:mid_x_i], key=lambda p: p[1])\n",
    "        if len(points_left_by_y) > 0:\n",
    "            nearest_left_y = min(points_left_by_y, key=lambda p: abs(mid_y - p[1]))\n",
    "            mid_left_y_i = points_left_by_y.index(nearest_left_y)\n",
    "            points_left_top = points_left_by_y[:mid_left_y_i]\n",
    "            points_left_bottom = points_left_by_y[mid_left_y_i:]\n",
    "        else:\n",
    "            points_left_top = []\n",
    "            points_left_bottom = []\n",
    "\n",
    "        points_right_by_y = sorted(points_by_x[mid_x_i:], key=lambda p: p[1])\n",
    "        if len(points_right_by_y) > 0:\n",
    "            nearest_right_y = min(points_right_by_y, key=lambda p: abs(mid_y - p[1]))\n",
    "            mid_right_y_i = points_right_by_y.index(nearest_right_y)\n",
    "            points_right_top = points_right_by_y[:mid_right_y_i]\n",
    "            points_right_bottom = points_right_by_y[mid_right_y_i:]\n",
    "        else:\n",
    "            points_right_top = []\n",
    "            points_right_bottom = []\n",
    "    else:\n",
    "        points_left_top = []\n",
    "        points_left_bottom = []\n",
    "        points_right_top = []\n",
    "        points_right_bottom = []\n",
    "    \n",
    "    return [(points_left_top, [l, mid_x, t, mid_y]), \n",
    "            (points_right_top, [mid_x, r, t, mid_y]), \n",
    "            (points_right_bottom, [mid_x, r, mid_y, b]), \n",
    "            (points_left_bottom, [l, mid_x, mid_y, b])]\n",
    "\n",
    "def build_pyramid(sample_points,bounds,depth):\n",
    "    layers = [[(sample_points,bounds)]]\n",
    "    for i in range(1,depth):\n",
    "        tiles = flatten([quarter(points,rect) for points,rect in layers[i-1]])\n",
    "        tiles.sort(key=lambda x: (x[1][0],x[1][2]))\n",
    "        layers.append(tiles)\n",
    "    return layers"
   ]
  },
  {
   "cell_type": "code",
   "execution_count": 3,
   "id": "quality-giant",
   "metadata": {},
   "outputs": [],
   "source": [
    "from Tile import *"
   ]
  },
  {
   "cell_type": "code",
   "execution_count": 32,
   "id": "handy-equation",
   "metadata": {},
   "outputs": [
    {
     "name": "stdout",
     "output_type": "stream",
     "text": [
      "139717\n",
      "(-0.9997379567, 0.9997379567, -0.9999939777, 0.9999939777)\n",
      "1.9994759134\n",
      "1.9999879554\n"
     ]
    }
   ],
   "source": [
    "# 1. randomly sample N integer 2-tuples\n",
    "# N = int(3000)\n",
    "# minX = randint(-1e7,-1e2)\n",
    "# maxX = randint(1e2,1e7)\n",
    "# minY = randint(-1e7,-1e2)\n",
    "# maxY = randint(1e2,1e7)\n",
    "# sample_points = [(minX+(maxX*random()),minY+(maxY*random())) for _ in range(N)]\n",
    "\n",
    "# 2. sample points from a thresholded image\n",
    "# sample_points = gray_to_points('test.png', 0.5)\n",
    "\n",
    "# 3. load points from a .csv\n",
    "#### CHANGE ME #########################\n",
    "path_to_data = '../data/roots_100.csv'\n",
    "########################################\n",
    "sample_points = get_points(path_to_data, x_bounds=(-1,1),y_bounds=(-1,1))\n",
    "print(len(sample_points))\n",
    "\n",
    "# establish bounding rectangle\n",
    "left = min(p[0] for p in sample_points)\n",
    "right = max(p[0] for p in sample_points)\n",
    "set_width = right - left\n",
    "top = min(p[1] for p in sample_points)\n",
    "bottom = max(p[1] for p in sample_points)\n",
    "set_height = bottom - top\n",
    "print((left,right,top,bottom))\n",
    "print(set_width)\n",
    "print(set_height)"
   ]
  },
  {
   "cell_type": "code",
   "execution_count": 33,
   "id": "electric-newfoundland",
   "metadata": {},
   "outputs": [
    {
     "name": "stdout",
     "output_type": "stream",
     "text": [
      "21845\n",
      "[1, 4, 16, 64, 256, 1024, 4096, 16384]\n",
      "[0.0, 1.0, 2.0, 3.0, 4.0, 5.0, 6.0, 7.0]\n"
     ]
    }
   ],
   "source": [
    "# generate pyramid from sample_points\n",
    "from math import log\n",
    "d = 8\n",
    "pyramid = build_pyramid(sample_points,[left,right,top,bottom],d)\n",
    "layers = [len(l) for l in pyramid]\n",
    "nb_tiles = sum(layers)\n",
    "print(nb_tiles)\n",
    "print(layers)\n",
    "print([log(l)/log(4) for l in layers])"
   ]
  },
  {
   "cell_type": "code",
   "execution_count": 42,
   "id": "increasing-yugoslavia",
   "metadata": {},
   "outputs": [
    {
     "name": "stdout",
     "output_type": "stream",
     "text": [
      "[1, 4, 16, 64, 256, 1024, 4096, 16384]\n"
     ]
    }
   ],
   "source": [
    "# generate Tile objects from pyramid\n",
    "# TODO : make a Pyramid class to ensure each tile layer is sorted by the topleft rect coordinate\n",
    "width = 100\n",
    "tiles = [[] for _ in range(d)]\n",
    "for z in range(d):\n",
    "    for q in range(4**z):\n",
    "        pointset, rect = pyramid[z][q]\n",
    "        i = q % (2**z)\n",
    "        j = q // (2**z)\n",
    "        pos = (z,i,j)\n",
    "        tile = Tile(len(tiles), pos, pointset, rect, width=width)\n",
    "        tiles[z].append(tile)\n",
    "    #print(z)\n",
    "    #print('\\n'.join([str((t.rect,t.pos)) for t in tiles[z]]))\n",
    "    #print()\n",
    "print([len(l) for l in tiles])"
   ]
  },
  {
   "cell_type": "code",
   "execution_count": 43,
   "id": "naughty-bathroom",
   "metadata": {},
   "outputs": [],
   "source": [
    "# run this cell to create a pyramid at PYR_DIR\n",
    "###########\n",
    "PYR_DIR = './zoomed_pyramid/'\n",
    "###########\n",
    "import os\n",
    "if not os.path.isdir(PYR_DIR):\n",
    "    os.mkdir(PYR_DIR)\n",
    "assert len(tiles) > 0\n",
    "for T in flatten(tiles):\n",
    "    T.save(PYR_DIR)"
   ]
  }
 ],
 "metadata": {
  "kernelspec": {
   "display_name": "Python 3",
   "language": "python",
   "name": "python3"
  },
  "language_info": {
   "codemirror_mode": {
    "name": "ipython",
    "version": 3
   },
   "file_extension": ".py",
   "mimetype": "text/x-python",
   "name": "python",
   "nbconvert_exporter": "python",
   "pygments_lexer": "ipython3",
   "version": "3.8.5"
  }
 },
 "nbformat": 4,
 "nbformat_minor": 5
}
